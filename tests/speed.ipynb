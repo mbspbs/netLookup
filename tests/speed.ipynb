{
 "cells": [
  {
   "cell_type": "code",
   "execution_count": 1,
   "metadata": {},
   "outputs": [],
   "source": [
    "import os, sys, ipaddress, random\n",
    "from datetime import datetime\n",
    "parentDir = os.path.abspath('..')\n",
    "sys.path.append(parentDir)\n",
    "from netLookup import netLookup"
   ]
  },
  {
   "cell_type": "code",
   "execution_count": 2,
   "metadata": {},
   "outputs": [],
   "source": [
    "def buildNetworks(v4: int, v6: int=0) -> list:\n",
    "    networks=[]\n",
    "    for _ in range(0, v4):\n",
    "        # Do Stuff\n",
    "        ip = random.randrange(0, 2**32)\n",
    "        ip = ipaddress.ip_address(ip)\n",
    "        subnet = random.randrange(8, 25)\n",
    "        network = ipaddress.ip_network(f'{ip}/{subnet}', strict=False)\n",
    "        networks.append(network)\n",
    "    return networks\n",
    "\n",
    "def buildQueryIps(v4: int, v6: int=0) -> list:\n",
    "    ips = []\n",
    "    for _ in range(0, v4):\n",
    "        ip = ipaddress.ip_address(random.randrange(0,2**32))\n",
    "        ips.append(ip)\n",
    "    return ips"
   ]
  },
  {
   "cell_type": "code",
   "execution_count": 3,
   "metadata": {},
   "outputs": [
    {
     "name": "stdout",
     "output_type": "stream",
     "text": [
      "4.48 ms ± 163 µs per loop (mean ± std. dev. of 7 runs, 100 loops each)\n"
     ]
    }
   ],
   "source": [
    "%%timeit\n",
    "buildNetworks(1000)"
   ]
  },
  {
   "cell_type": "code",
   "execution_count": 4,
   "metadata": {},
   "outputs": [
    {
     "name": "stdout",
     "output_type": "stream",
     "text": [
      "6.47 ms ± 104 µs per loop (mean ± std. dev. of 7 runs, 100 loops each)\n"
     ]
    }
   ],
   "source": [
    "%%timeit\n",
    "buildQueryIps(10000)"
   ]
  },
  {
   "cell_type": "markdown",
   "metadata": {},
   "source": [
    "During initial testing this ran around 4.49ms with 1000 networks generated and 6.42ms with 10000 ips generated."
   ]
  },
  {
   "cell_type": "code",
   "execution_count": 12,
   "metadata": {},
   "outputs": [
    {
     "name": "stdout",
     "output_type": "stream",
     "text": [
      "table build 0:00:00.093135\n",
      "table query: 0:00:01.869529\n",
      "Networks found: 990\n",
      "Networks not found: 10\n",
      "Percentage found: 99.0\n"
     ]
    }
   ],
   "source": [
    "table = netLookup.Table()\n",
    "start = datetime.now()\n",
    "numberOfNetworks = 10000\n",
    "networks = buildNetworks(numberOfNetworks)\n",
    "for network in networks:\n",
    "    #print(hash(network))\n",
    "    entry = {\n",
    "        'network': network,\n",
    "        'data': network\n",
    "        }\n",
    "    table.add(entry)\n",
    "end = datetime.now()\n",
    "print(f'table build {end - start}')\n",
    "numberOfQueries = 1000\n",
    "ips = buildQueryIps(numberOfQueries)\n",
    "notFound = 0\n",
    "found = 0\n",
    "start = datetime.now()\n",
    "for ip in ips:\n",
    "    try:\n",
    "        data = table.query(ip)        \n",
    "        found += 1\n",
    "    except ValueError:\n",
    "        notFound += 1\n",
    "        pass\n",
    "end = datetime.now()\n",
    "print(f'table query: {end - start}')\n",
    "print(f'''Networks found: {found}\n",
    "Networks not found: {notFound}\n",
    "Percentage found: {(found/numberOfQueries)*100}''')\n",
    "        "
   ]
  },
  {
   "cell_type": "markdown",
   "metadata": {},
   "source": [
    "Using 10000 networks and 1000 queries approximatly 99% of queried IP's were found in about 2 seconds. During these loops the average table build time was around .05 seconds and the lookup time was around 1.7 seconds and scaled nearly linerly when the number of IP queries changed."
   ]
  }
 ],
 "metadata": {
  "kernelspec": {
   "display_name": "Python 3.10.6 ('venv': venv)",
   "language": "python",
   "name": "python3"
  },
  "language_info": {
   "codemirror_mode": {
    "name": "ipython",
    "version": 3
   },
   "file_extension": ".py",
   "mimetype": "text/x-python",
   "name": "python",
   "nbconvert_exporter": "python",
   "pygments_lexer": "ipython3",
   "version": "3.10.6"
  },
  "orig_nbformat": 4,
  "vscode": {
   "interpreter": {
    "hash": "8d64b08835fbe973cdcc0dd9e1873fc2df07ab226253e51342f3ad27c4d5d2a2"
   }
  }
 },
 "nbformat": 4,
 "nbformat_minor": 2
}
